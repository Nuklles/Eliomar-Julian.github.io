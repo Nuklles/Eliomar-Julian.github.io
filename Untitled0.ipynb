{
  "nbformat": 4,
  "nbformat_minor": 0,
  "metadata": {
    "colab": {
      "provenance": [],
      "mount_file_id": "1I8dgikWTGoghJwoP7Kup9iiyBmDpLQgt",
      "authorship_tag": "ABX9TyPs5IyUzANwtbOSKO+4hy2x",
      "include_colab_link": true
    },
    "kernelspec": {
      "name": "python3",
      "display_name": "Python 3"
    },
    "language_info": {
      "name": "python"
    }
  },
  "cells": [
    {
      "cell_type": "markdown",
      "metadata": {
        "id": "view-in-github",
        "colab_type": "text"
      },
      "source": [
        "<a href=\"https://colab.research.google.com/github/Nuklles/Eliomar-Julian.github.io/blob/main/Untitled0.ipynb\" target=\"_parent\"><img src=\"https://colab.research.google.com/assets/colab-badge.svg\" alt=\"Open In Colab\"/></a>"
      ]
    },
    {
      "cell_type": "code",
      "execution_count": 2,
      "metadata": {
        "colab": {
          "base_uri": "https://localhost:8080/"
        },
        "id": "dxse4mBvp5O2",
        "outputId": "c508a503-6e5f-4a53-fe32-bc9f65f6f63c"
      },
      "outputs": [
        {
          "output_type": "stream",
          "name": "stdout",
          "text": [
            "Reading package lists... Done\n",
            "Building dependency tree       \n",
            "Reading state information... Done\n",
            "The following additional packages will be installed:\n",
            "  golang-1.13 golang-1.13-doc golang-1.13-go golang-1.13-race-detector-runtime\n",
            "  golang-1.13-src golang-doc golang-go golang-race-detector-runtime golang-src\n",
            "Suggested packages:\n",
            "  bzr | brz mercurial subversion\n",
            "The following NEW packages will be installed:\n",
            "  golang golang-1.13 golang-1.13-doc golang-1.13-go\n",
            "  golang-1.13-race-detector-runtime golang-1.13-src golang-doc golang-go\n",
            "  golang-race-detector-runtime golang-src\n",
            "0 upgraded, 10 newly installed, 0 to remove and 22 not upgraded.\n",
            "Need to get 63.5 MB of archives.\n",
            "After this operation, 329 MB of additional disk space will be used.\n",
            "Get:1 http://archive.ubuntu.com/ubuntu focal-updates/main amd64 golang-1.13-src amd64 1.13.8-1ubuntu1.1 [12.6 MB]\n",
            "Get:2 http://archive.ubuntu.com/ubuntu focal-updates/main amd64 golang-1.13-go amd64 1.13.8-1ubuntu1.1 [47.6 MB]\n",
            "Get:3 http://archive.ubuntu.com/ubuntu focal-updates/main amd64 golang-1.13-doc all 1.13.8-1ubuntu1.1 [2,525 kB]\n",
            "Get:4 http://archive.ubuntu.com/ubuntu focal-updates/main amd64 golang-1.13 all 1.13.8-1ubuntu1.1 [11.3 kB]\n",
            "Get:5 http://archive.ubuntu.com/ubuntu focal/main amd64 golang-src amd64 2:1.13~1ubuntu2 [4,044 B]\n",
            "Get:6 http://archive.ubuntu.com/ubuntu focal/main amd64 golang-go amd64 2:1.13~1ubuntu2 [22.0 kB]\n",
            "Get:7 http://archive.ubuntu.com/ubuntu focal/main amd64 golang-doc all 2:1.13~1ubuntu2 [2,948 B]\n",
            "Get:8 http://archive.ubuntu.com/ubuntu focal/main amd64 golang amd64 2:1.13~1ubuntu2 [2,900 B]\n",
            "Get:9 http://archive.ubuntu.com/ubuntu focal/main amd64 golang-1.13-race-detector-runtime amd64 0.0+svn332029-0ubuntu2 [713 kB]\n",
            "Get:10 http://archive.ubuntu.com/ubuntu focal/main amd64 golang-race-detector-runtime amd64 2:1.13~1ubuntu2 [3,836 B]\n",
            "Fetched 63.5 MB in 2s (27.7 MB/s)\n",
            "Selecting previously unselected package golang-1.13-src.\n",
            "(Reading database ... 128276 files and directories currently installed.)\n",
            "Preparing to unpack .../0-golang-1.13-src_1.13.8-1ubuntu1.1_amd64.deb ...\n",
            "Unpacking golang-1.13-src (1.13.8-1ubuntu1.1) ...\n",
            "Selecting previously unselected package golang-1.13-go.\n",
            "Preparing to unpack .../1-golang-1.13-go_1.13.8-1ubuntu1.1_amd64.deb ...\n",
            "Unpacking golang-1.13-go (1.13.8-1ubuntu1.1) ...\n",
            "Selecting previously unselected package golang-1.13-doc.\n",
            "Preparing to unpack .../2-golang-1.13-doc_1.13.8-1ubuntu1.1_all.deb ...\n",
            "Unpacking golang-1.13-doc (1.13.8-1ubuntu1.1) ...\n",
            "Selecting previously unselected package golang-1.13.\n",
            "Preparing to unpack .../3-golang-1.13_1.13.8-1ubuntu1.1_all.deb ...\n",
            "Unpacking golang-1.13 (1.13.8-1ubuntu1.1) ...\n",
            "Selecting previously unselected package golang-src.\n",
            "Preparing to unpack .../4-golang-src_2%3a1.13~1ubuntu2_amd64.deb ...\n",
            "Unpacking golang-src (2:1.13~1ubuntu2) ...\n",
            "Selecting previously unselected package golang-go.\n",
            "Preparing to unpack .../5-golang-go_2%3a1.13~1ubuntu2_amd64.deb ...\n",
            "Unpacking golang-go (2:1.13~1ubuntu2) ...\n",
            "Selecting previously unselected package golang-doc.\n",
            "Preparing to unpack .../6-golang-doc_2%3a1.13~1ubuntu2_all.deb ...\n",
            "Unpacking golang-doc (2:1.13~1ubuntu2) ...\n",
            "Selecting previously unselected package golang.\n",
            "Preparing to unpack .../7-golang_2%3a1.13~1ubuntu2_amd64.deb ...\n",
            "Unpacking golang (2:1.13~1ubuntu2) ...\n",
            "Selecting previously unselected package golang-1.13-race-detector-runtime.\n",
            "Preparing to unpack .../8-golang-1.13-race-detector-runtime_0.0+svn332029-0ubuntu2_amd64.deb ...\n",
            "Unpacking golang-1.13-race-detector-runtime (0.0+svn332029-0ubuntu2) ...\n",
            "Selecting previously unselected package golang-race-detector-runtime.\n",
            "Preparing to unpack .../9-golang-race-detector-runtime_2%3a1.13~1ubuntu2_amd64.deb ...\n",
            "Unpacking golang-race-detector-runtime (2:1.13~1ubuntu2) ...\n",
            "Setting up golang-1.13-src (1.13.8-1ubuntu1.1) ...\n",
            "Setting up golang-1.13-race-detector-runtime (0.0+svn332029-0ubuntu2) ...\n",
            "Setting up golang-1.13-go (1.13.8-1ubuntu1.1) ...\n",
            "Setting up golang-src (2:1.13~1ubuntu2) ...\n",
            "Setting up golang-race-detector-runtime (2:1.13~1ubuntu2) ...\n",
            "Setting up golang-go (2:1.13~1ubuntu2) ...\n",
            "Setting up golang-1.13-doc (1.13.8-1ubuntu1.1) ...\n",
            "Setting up golang-1.13 (1.13.8-1ubuntu1.1) ...\n",
            "Setting up golang-doc (2:1.13~1ubuntu2) ...\n",
            "Setting up golang (2:1.13~1ubuntu2) ...\n",
            "Processing triggers for man-db (2.9.1-1) ...\n"
          ]
        }
      ],
      "source": [
        "!apt install golang "
      ]
    },
    {
      "cell_type": "code",
      "source": [
        "!go version "
      ],
      "metadata": {
        "colab": {
          "base_uri": "https://localhost:8080/"
        },
        "id": "vyltIvzpq-df",
        "outputId": "1ba2fe95-30a1-4397-db1c-04de20935a08"
      },
      "execution_count": 3,
      "outputs": [
        {
          "output_type": "stream",
          "name": "stdout",
          "text": [
            "go version go1.13.8 linux/amd64\n"
          ]
        }
      ]
    },
    {
      "cell_type": "code",
      "source": [
        "%%writefile main.go \n",
        "\n",
        "package main \n",
        "\n",
        "import \"fmt\"\n",
        "\n",
        "func main (){\n",
        "  fmt.Printf(\"HELLO WORD\")\n",
        "}"
      ],
      "metadata": {
        "colab": {
          "base_uri": "https://localhost:8080/"
        },
        "id": "ZNHtgU7Areaz",
        "outputId": "901cae4f-e102-40fe-9120-59ae02fbc082"
      },
      "execution_count": 4,
      "outputs": [
        {
          "output_type": "stream",
          "name": "stdout",
          "text": [
            "Writing main.go\n"
          ]
        }
      ]
    },
    {
      "cell_type": "code",
      "source": [
        "%%writefile matematica.go \n",
        "package main\n",
        "import(\n",
        "   \"fmt\"\n",
        "   \"math\"\n",
        ")\n",
        "\n",
        "func main (){\n",
        "  fmt.Println(math.Pi)\n",
        "}"
      ],
      "metadata": {
        "colab": {
          "base_uri": "https://localhost:8080/"
        },
        "id": "256s9PrYtAYJ",
        "outputId": "fa933c09-5c66-4199-c3fb-e1928a671b2a"
      },
      "execution_count": 8,
      "outputs": [
        {
          "output_type": "stream",
          "name": "stdout",
          "text": [
            "Writing matematica.go\n"
          ]
        }
      ]
    },
    {
      "cell_type": "code",
      "source": [
        "!go run matematica.go"
      ],
      "metadata": {
        "colab": {
          "base_uri": "https://localhost:8080/"
        },
        "id": "yt3-ETBmtaJ0",
        "outputId": "32f097a5-72be-4297-eac5-b572b2fd5ea7"
      },
      "execution_count": 9,
      "outputs": [
        {
          "output_type": "stream",
          "name": "stdout",
          "text": [
            "3.141592653589793\n"
          ]
        }
      ]
    },
    {
      "cell_type": "code",
      "source": [
        "!go run main.go"
      ],
      "metadata": {
        "id": "-ONvXvzqsL3K"
      },
      "execution_count": null,
      "outputs": []
    }
  ]
}